{
    "metadata": {
        "kernelspec": {
            "name": "SQL",
            "display_name": "SQL",
            "language": "sql"
        },
        "language_info": {
            "name": "sql",
            "version": ""
        }
    },
    "nbformat_minor": 2,
    "nbformat": 4,
    "cells": [
        {
            "cell_type": "markdown",
            "source": [
                "# **Tourism-Nova Scotia Data Mart Analysis**\r\n",
                "\r\n",
                "\r\n",
                "Nova Scotia is a popular getaway known for it's scenic beauty and calm pace of life. Being surrounded by water all around, it hosts a vast greenary and picturesque locations starting from a world famous Cabot Trails, local wineries, cozy cottages etc.\r\n",
                "\r\n",
                "This Data mart contains the Tourist data starting from 2006 to 2024. The source for this data is [Tourism Nova Scotia Visitation](https://data.novascotia.ca/Business-and-Industry/Tourism-Nova-Scotia-Visitation/n783-4gmh/data_preview) page from [Nova Scotia Government's Open Data Portal](https://data.novascotia.ca/)\r\n",
                "\r\n",
                "The mart is created based on the [Star Schema Design](https://www.kimballgroup.com/data-warehouse-business-intelligence-resources/kimball-techniques/dimensional-modeling-techniques/star-schema-olap-cube/) as outlined by [Ralph Kimball](https://www.kimballgroup.com/data-warehouse-business-intelligence-resources/kimball-techniques/dimensional-modeling-techniques/)\r\n",
                "\r\n",
                "\r\n",
                "# **Steps to Tourism-Nova Scotia Data Mart Creation**\r\n",
                "From the below DDL and DML commands, checked ones are used to achieve this mart.\r\n",
                "- DDL-Data Definition Language deals with defining and managing the structure of data.\r\n",
                "\r\n",
                "    - [x] CREATE\r\n",
                "    - [x] ALTER\r\n",
                "    - [x] DROP\r\n",
                "\r\n",
                "- DML - Data Manipulation Language deals with modifying and manipulation of data.\r\n",
                "\r\n",
                "    - [x] INSERT\r\n",
                "    - [ ] UPDATE\r\n",
                "    - [ ] DELETE\r\n",
                ""
            ],
            "metadata": {
                "azdata_cell_guid": "e50dbad4-31fb-4cdd-8c70-dbd52e5b4d07"
            },
            "attachments": {}
        }
    ]
}